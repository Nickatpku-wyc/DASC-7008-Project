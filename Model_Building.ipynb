{
 "cells": [
  {
   "cell_type": "markdown",
   "id": "62ebd94e",
   "metadata": {},
   "source": [
    "### 1. install packages"
   ]
  },
  {
   "cell_type": "code",
   "execution_count": 1,
   "id": "2ca0bdae",
   "metadata": {},
   "outputs": [],
   "source": [
    "import pandas as pd\n",
    "import numpy as np\n",
    "import matplotlib.pyplot as plt\n",
    "import seaborn as sns\n",
    "from sklearn.preprocessing import StandardScaler\n",
    "from sklearn.model_selection import train_test_split\n",
    "from sklearn.model_selection import GridSearchCV\n",
    "from sklearn import linear_model\n",
    "from sklearn.linear_model import Ridge\n",
    "from sklearn.tree import DecisionTreeRegressor \n",
    "from sklearn.ensemble import RandomForestRegressor\n",
    "from xgboost import XGBRegressor\n",
    "from sklearn.svm import SVR\n",
    "from sklearn.metrics import mean_squared_error\n",
    "from sklearn.metrics import mean_absolute_error\n",
    "from sklearn.metrics import r2_score\n",
    "import regressors.stats\n",
    "import warnings\n",
    "warnings.filterwarnings(\"ignore\")"
   ]
  },
  {
   "cell_type": "markdown",
   "id": "22b56659",
   "metadata": {},
   "source": [
    "### 2. read data and data procesing"
   ]
  },
  {
   "cell_type": "code",
   "execution_count": 2,
   "id": "586c2a7a",
   "metadata": {
    "scrolled": true
   },
   "outputs": [
    {
     "data": {
      "text/html": [
       "<div>\n",
       "<style scoped>\n",
       "    .dataframe tbody tr th:only-of-type {\n",
       "        vertical-align: middle;\n",
       "    }\n",
       "\n",
       "    .dataframe tbody tr th {\n",
       "        vertical-align: top;\n",
       "    }\n",
       "\n",
       "    .dataframe thead th {\n",
       "        text-align: right;\n",
       "    }\n",
       "</style>\n",
       "<table border=\"1\" class=\"dataframe\">\n",
       "  <thead>\n",
       "    <tr style=\"text-align: right;\">\n",
       "      <th></th>\n",
       "      <th>date</th>\n",
       "      <th>Housing CPI</th>\n",
       "      <th>unemployment rate</th>\n",
       "      <th>Domestic Households</th>\n",
       "      <th>total income</th>\n",
       "      <th>land area</th>\n",
       "      <th>land price</th>\n",
       "      <th>Total loans approved</th>\n",
       "      <th>sentiment</th>\n",
       "      <th>Domestic Price Indices</th>\n",
       "      <th>average disposable income</th>\n",
       "      <th>price per land</th>\n",
       "    </tr>\n",
       "  </thead>\n",
       "  <tbody>\n",
       "    <tr>\n",
       "      <th>0</th>\n",
       "      <td>2002-1</td>\n",
       "      <td>72.7</td>\n",
       "      <td>6.3</td>\n",
       "      <td>2079.5</td>\n",
       "      <td>103629.3333</td>\n",
       "      <td>1.0</td>\n",
       "      <td>0.0</td>\n",
       "      <td>11467</td>\n",
       "      <td>6.392807</td>\n",
       "      <td>74.1</td>\n",
       "      <td>49.833774</td>\n",
       "      <td>0.000000</td>\n",
       "    </tr>\n",
       "    <tr>\n",
       "      <th>1</th>\n",
       "      <td>2002-2</td>\n",
       "      <td>72.5</td>\n",
       "      <td>6.6</td>\n",
       "      <td>2083.8</td>\n",
       "      <td>103629.3333</td>\n",
       "      <td>10290.0</td>\n",
       "      <td>301.0</td>\n",
       "      <td>7947</td>\n",
       "      <td>6.933953</td>\n",
       "      <td>73.9</td>\n",
       "      <td>49.730940</td>\n",
       "      <td>0.029252</td>\n",
       "    </tr>\n",
       "    <tr>\n",
       "      <th>2</th>\n",
       "      <td>2002-3</td>\n",
       "      <td>72.2</td>\n",
       "      <td>6.9</td>\n",
       "      <td>2087.2</td>\n",
       "      <td>103629.3333</td>\n",
       "      <td>1.0</td>\n",
       "      <td>0.0</td>\n",
       "      <td>8206</td>\n",
       "      <td>5.776455</td>\n",
       "      <td>73.3</td>\n",
       "      <td>49.649930</td>\n",
       "      <td>0.000000</td>\n",
       "    </tr>\n",
       "    <tr>\n",
       "      <th>3</th>\n",
       "      <td>2002-4</td>\n",
       "      <td>71.9</td>\n",
       "      <td>7.1</td>\n",
       "      <td>2091.7</td>\n",
       "      <td>103079.6667</td>\n",
       "      <td>48170.0</td>\n",
       "      <td>2970.0</td>\n",
       "      <td>8816</td>\n",
       "      <td>5.716957</td>\n",
       "      <td>72.3</td>\n",
       "      <td>49.280330</td>\n",
       "      <td>0.061657</td>\n",
       "    </tr>\n",
       "    <tr>\n",
       "      <th>4</th>\n",
       "      <td>2002-5</td>\n",
       "      <td>71.7</td>\n",
       "      <td>7.3</td>\n",
       "      <td>2097.1</td>\n",
       "      <td>103079.6667</td>\n",
       "      <td>1.0</td>\n",
       "      <td>0.0</td>\n",
       "      <td>10209</td>\n",
       "      <td>5.808039</td>\n",
       "      <td>72.4</td>\n",
       "      <td>49.153434</td>\n",
       "      <td>0.000000</td>\n",
       "    </tr>\n",
       "  </tbody>\n",
       "</table>\n",
       "</div>"
      ],
      "text/plain": [
       "     date  Housing CPI  unemployment rate  Domestic Households  total income  \\\n",
       "0  2002-1         72.7                6.3               2079.5   103629.3333   \n",
       "1  2002-2         72.5                6.6               2083.8   103629.3333   \n",
       "2  2002-3         72.2                6.9               2087.2   103629.3333   \n",
       "3  2002-4         71.9                7.1               2091.7   103079.6667   \n",
       "4  2002-5         71.7                7.3               2097.1   103079.6667   \n",
       "\n",
       "   land area  land price  Total loans approved  sentiment  \\\n",
       "0        1.0         0.0                 11467   6.392807   \n",
       "1    10290.0       301.0                  7947   6.933953   \n",
       "2        1.0         0.0                  8206   5.776455   \n",
       "3    48170.0      2970.0                  8816   5.716957   \n",
       "4        1.0         0.0                 10209   5.808039   \n",
       "\n",
       "   Domestic Price Indices  average disposable income  price per land  \n",
       "0                    74.1                  49.833774        0.000000  \n",
       "1                    73.9                  49.730940        0.029252  \n",
       "2                    73.3                  49.649930        0.000000  \n",
       "3                    72.3                  49.280330        0.061657  \n",
       "4                    72.4                  49.153434        0.000000  "
      ]
     },
     "execution_count": 2,
     "metadata": {},
     "output_type": "execute_result"
    }
   ],
   "source": [
    "# read data\n",
    "df = pd.read_csv('./available_data/HousePrice(including sentiment).csv')\n",
    "\n",
    "# data processing\n",
    "# filling missing data\n",
    "df['total income'].fillna(method='pad',inplace=True)\n",
    "# create variable 'average disposable income'\n",
    "df['average disposable income'] = df['total income']/df['Domestic Households']\n",
    "# In case the denominator is 0\n",
    "df['land area'] = df['land area'].apply(lambda x: 1 if x == 0 else x)\n",
    "# create variable 'price per land'\n",
    "df['price per land'] = df['land price']/df['land area']\n",
    "df.head()"
   ]
  },
  {
   "cell_type": "code",
   "execution_count": 3,
   "id": "e4a86eea",
   "metadata": {
    "scrolled": true
   },
   "outputs": [
    {
     "data": {
      "image/png": "[encoded data removed]",
      "text/plain": [
       "<Figure size 432x288 with 2 Axes>"
      ]
     },
     "metadata": {
      "needs_background": "light"
     },
     "output_type": "display_data"
    }
   ],
   "source": [
    "# plot heatmap to check correlations between variables\n",
    "df1 = df[['average disposable income','Housing CPI','unemployment rate','Total loans approved','price per land','sentiment','Domestic Price Indices']]\n",
    "corrmatrix = df1.corr('spearman')\n",
    "sns.heatmap(corrmatrix,square=True,vmax=1,vmin=-1,center=0.0,cmap='coolwarm')\n",
    "plt.show()"
   ]
  },
  {
   "cell_type": "markdown",
   "id": "b3edfe9e",
   "metadata": {},
   "source": [
    "### 3. feature selection"
   ]
  },
  {
   "cell_type": "code",
   "execution_count": 4,
   "id": "24b42c83",
   "metadata": {},
   "outputs": [],
   "source": [
    "# model1: without sentiment index\n",
    "# response\n",
    "y = df['Domestic Price Indices']\n",
    "# features\n",
    "X = df[['average disposable income','unemployment rate','Total loans approved','price per land']]\n",
    "\n",
    "# model2: with sentiment index\n",
    "# features1\n",
    "X1 = df[['average disposable income','unemployment rate','Total loans approved','price per land','sentiment']]"
   ]
  },
  {
   "cell_type": "markdown",
   "id": "fcbf848c",
   "metadata": {},
   "source": [
    "### 4. standardization and partitioning"
   ]
  },
  {
   "cell_type": "code",
   "execution_count": 5,
   "id": "907216f5",
   "metadata": {},
   "outputs": [],
   "source": [
    "# model1 standardization\n",
    "Transfer = StandardScaler()\n",
    "X = Transfer.fit_transform(X)\n",
    "# model2 standardization\n",
    "Transfer = StandardScaler()\n",
    "X1 = Transfer.fit_transform(X1)\n",
    "\n",
    "# model1 data set partitioning\n",
    "x_train,x_test,y_train,y_test = train_test_split(X,y,test_size=0.2,random_state=10)\n",
    "# model2 data set partitioning\n",
    "x_train1,x_test1,y_train1,y_test1 = train_test_split(X1,y,test_size=0.2,random_state=10)"
   ]
  },
  {
   "cell_type": "markdown",
   "id": "6d8c80cc",
   "metadata": {},
   "source": [
    "## 5.training data\n",
    "### 5.1. ridge regression model\n",
    "#### 1) model without sentiment index"
   ]
  },
  {
   "cell_type": "code",
   "execution_count": 6,
   "id": "e8d5236d",
   "metadata": {},
   "outputs": [
    {
     "name": "stdout",
     "output_type": "stream",
     "text": [
      "Ridge coefficient:\n",
      " [116.45091112  13.33220002   4.33769863   0.58982215]\n",
      "Ridge intercept:\n",
      " 210.929349655904\n",
      "Ridge mse: 576.3557674975624\n",
      "Ridge mae: 18.77958477729679\n",
      "R2 score:  0.9570359424004364\n"
     ]
    }
   ],
   "source": [
    "# train data\n",
    "estimator = linear_model.RidgeCV()\n",
    "estimator.fit(x_train,y_train)\n",
    "print('Ridge coefficient:\\n',estimator.coef_)\n",
    "print('Ridge intercept:\\n',estimator.intercept_)\n",
    "\n",
    "# prediction\n",
    "y_predict = estimator.predict(x_test)\n",
    "\n",
    "# model evaluation\n",
    "Ridge_mse = mean_squared_error(y_test,y_predict)\n",
    "print('Ridge mse:',Ridge_mse)\n",
    "Ridge_mae = mean_absolute_error(y_test,y_predict)\n",
    "print('Ridge mae:',Ridge_mae)\n",
    "Ridge_score = r2_score(y_test,y_predict)\n",
    "print('R2 score: ',Ridge_score)"
   ]
  },
  {
   "cell_type": "markdown",
   "id": "b5f026e0",
   "metadata": {},
   "source": [
    "#### 2) model with sentiment index"
   ]
  },
  {
   "cell_type": "code",
   "execution_count": 7,
   "id": "eb41d926",
   "metadata": {},
   "outputs": [
    {
     "name": "stdout",
     "output_type": "stream",
     "text": [
      "Ridge coefficient:\n",
      " [102.75509876   9.39573037   5.98714238   0.20446041  13.32851067]\n",
      "Ridge intercept:\n",
      " 210.68889329932543\n",
      "Ridge mse: 557.3356227885592\n",
      "Ridge mae: 18.055500624899082\n",
      "R2 score:  0.9584537864455784\n"
     ]
    }
   ],
   "source": [
    "# train data\n",
    "estimator = linear_model.RidgeCV()\n",
    "estimator.fit(x_train1,y_train1)\n",
    "print('Ridge coefficient:\\n',estimator.coef_)\n",
    "print('Ridge intercept:\\n',estimator.intercept_)\n",
    "\n",
    "# prediction\n",
    "y_predict1 = estimator.predict(x_test1)\n",
    "\n",
    "# model evaluation\n",
    "Ridge_mse1 = mean_squared_error(y_test1,y_predict1)\n",
    "print('Ridge mse:',Ridge_mse1)\n",
    "Ridge_mae1 = mean_absolute_error(y_test1,y_predict1)\n",
    "print('Ridge mae:',Ridge_mae1)\n",
    "Ridge_score1 = r2_score(y_test1,y_predict1)\n",
    "print('R2 score: ',Ridge_score1)"
   ]
  },
  {
   "cell_type": "code",
   "execution_count": 8,
   "id": "ee8e7c3d",
   "metadata": {},
   "outputs": [
    {
     "name": "stdout",
     "output_type": "stream",
     "text": [
      "Residuals:\n",
      "     Min      1Q  Median      3Q     Max\n",
      "-35.7848 -6.4143  6.0033 19.8134 65.8686\n",
      "\n",
      "\n",
      "Coefficients:\n",
      "              Estimate  Std. Error  t value   p value\n",
      "_intercept  210.688893    3.465095  60.8032  0.000000\n",
      "x1          102.755099    6.946086  14.7932  0.000000\n",
      "x2            9.395730    4.618907   2.0342  0.047598\n",
      "x3            5.987142    4.599320   1.3017  0.199348\n",
      "x4            0.204460    3.412541   0.0599  0.952478\n",
      "x5           13.328511    5.294559   2.5174  0.015290\n",
      "---\n",
      "R-squared:  0.95845,    Adjusted R-squared:  0.95351\n",
      "F-statistic: 193.78 on 5 features\n",
      "None\n"
     ]
    }
   ],
   "source": [
    "# obtain p-value of each variable\n",
    "print(regressors.stats.summary(estimator,x_test1,y_test1))"
   ]
  },
  {
   "cell_type": "markdown",
   "id": "41a5f8ac",
   "metadata": {},
   "source": [
    "### 5.2 Decision tree regression model\n",
    "#### 1) model without sentiment index"
   ]
  },
  {
   "cell_type": "code",
   "execution_count": 9,
   "id": "a3fdcd03",
   "metadata": {},
   "outputs": [
    {
     "name": "stdout",
     "output_type": "stream",
     "text": [
      "best parameter:  {'max_depth': 5}\n",
      "DT mse: 370.0838183187905\n",
      "DT mae: 11.756351949402928\n",
      "R2 score:  0.9724123477484206\n"
     ]
    }
   ],
   "source": [
    "# train data\n",
    "estimator = DecisionTreeRegressor(random_state=10,max_depth=5)\n",
    "# adjust hyper-parameter\n",
    "estimator= GridSearchCV(estimator,param_grid ={'max_depth':range(1,10)},cv=10)\n",
    "estimator.fit(x_train,y_train)\n",
    "print('best parameter: ',estimator.best_params_)\n",
    "\n",
    "# prediction\n",
    "y_predict = estimator.predict(x_test)\n",
    "\n",
    "# model evaluation\n",
    "DT_mse = mean_squared_error(y_test,y_predict)\n",
    "print('DT mse:',DT_mse)\n",
    "DT_mae = mean_absolute_error(y_test,y_predict)\n",
    "print('DT mae:',DT_mae)\n",
    "DT_score = r2_score(y_test,y_predict)\n",
    "print('R2 score: ',DT_score)"
   ]
  },
  {
   "cell_type": "markdown",
   "id": "0727a789",
   "metadata": {},
   "source": [
    "#### 2) model with sentiment index"
   ]
  },
  {
   "cell_type": "code",
   "execution_count": 10,
   "id": "5cdaed5a",
   "metadata": {},
   "outputs": [
    {
     "name": "stdout",
     "output_type": "stream",
     "text": [
      "best parameter:  {'max_depth': 10}\n",
      "DT mse: 276.31140624999995\n",
      "DT mae: 9.163541666666665\n",
      "R2 score:  0.9794025498780289\n"
     ]
    }
   ],
   "source": [
    "# train data\n",
    "estimator = DecisionTreeRegressor(random_state=10, max_depth=10)\n",
    "# adjust hyper-parameter\n",
    "estimator= GridSearchCV(estimator,param_grid ={'max_depth':range(1,15)},cv=10)\n",
    "estimator.fit(x_train1,y_train1)\n",
    "print('best parameter: ',estimator.best_params_)\n",
    "\n",
    "# prediction\n",
    "y_predict1 = estimator.predict(x_test1)\n",
    "\n",
    "# model evaluation\n",
    "DT_mse1 = mean_squared_error(y_test1,y_predict1)\n",
    "print('DT mse:',DT_mse1)\n",
    "DT_mae1 = mean_absolute_error(y_test1,y_predict1)\n",
    "print('DT mae:',DT_mae1)\n",
    "DT_score1 = r2_score(y_test1,y_predict1)\n",
    "print('R2 score: ',DT_score1)"
   ]
  },
  {
   "cell_type": "markdown",
   "id": "6f33060b",
   "metadata": {},
   "source": [
    "### 5.3 Random Forest regression model\n",
    "#### 1) model without sentiment index"
   ]
  },
  {
   "cell_type": "code",
   "execution_count": 11,
   "id": "df84d7f7",
   "metadata": {},
   "outputs": [
    {
     "name": "stdout",
     "output_type": "stream",
     "text": [
      "best parameter:  {'max_depth': 8}\n",
      "RF mse: 249.90064511561002\n",
      "RF mae: 10.839951556738024\n",
      "R2 score:  0.9813713225122527\n"
     ]
    }
   ],
   "source": [
    "# train data\n",
    "estimator = RandomForestRegressor(n_estimators=30,max_depth=8,random_state=10)\n",
    "# adjust hyper-parameter\n",
    "estimator= GridSearchCV(estimator, param_grid ={'max_depth':range(1,10)},cv=10)\n",
    "estimator.fit(x_train,y_train)\n",
    "print('best parameter: ',estimator.best_params_)\n",
    "\n",
    "# prediction\n",
    "y_predict = estimator.predict(x_test)\n",
    "\n",
    "# model evaluation\n",
    "RF_mse = mean_squared_error(y_test,y_predict)\n",
    "print('RF mse:',RF_mse)\n",
    "RF_mae = mean_absolute_error(y_test,y_predict)\n",
    "print('RF mae:',RF_mae)\n",
    "RF_score = r2_score(y_test,y_predict)\n",
    "print('R2 score: ',RF_score)"
   ]
  },
  {
   "cell_type": "markdown",
   "id": "00ab1d54",
   "metadata": {},
   "source": [
    "#### 2) model with sentiment index"
   ]
  },
  {
   "cell_type": "code",
   "execution_count": 12,
   "id": "3fb0d19d",
   "metadata": {},
   "outputs": [
    {
     "name": "stdout",
     "output_type": "stream",
     "text": [
      "best parameter:  {'max_depth': 7}\n",
      "RF mse: 220.41728598404993\n",
      "RF mae: 10.336048185245552\n",
      "R2 score:  0.9835691399219003\n"
     ]
    }
   ],
   "source": [
    "# train data\n",
    "estimator = RandomForestRegressor(n_estimators=30,max_depth=7,random_state=10)\n",
    "# adjust hyper-parameter\n",
    "estimator= GridSearchCV(estimator, param_grid ={'max_depth':range(1,10)},cv=10)\n",
    "estimator.fit(x_train1,y_train1)\n",
    "print('best parameter: ',estimator.best_params_)\n",
    "\n",
    "# prediction\n",
    "y_predict1 = estimator.predict(x_test1)\n",
    "\n",
    "# model evaluation\n",
    "RF_mse = mean_squared_error(y_test1,y_predict1)\n",
    "print('RF mse:',RF_mse)\n",
    "RF_mae = mean_absolute_error(y_test1,y_predict1)\n",
    "print('RF mae:',RF_mae)\n",
    "RF_score = r2_score(y_test1,y_predict1)\n",
    "print('R2 score: ',RF_score)"
   ]
  },
  {
   "cell_type": "markdown",
   "id": "781069ba",
   "metadata": {},
   "source": [
    "### 5.4 SVR model\n",
    "#### 1) model without sentiment index"
   ]
  },
  {
   "cell_type": "code",
   "execution_count": 13,
   "id": "14ad5893",
   "metadata": {},
   "outputs": [
    {
     "name": "stdout",
     "output_type": "stream",
     "text": [
      "svm mse: 1287.7721814923946\n",
      "svm mae: 26.97115600426406\n",
      "R2 score:  0.9040038786789986\n"
     ]
    }
   ],
   "source": [
    "# train data\n",
    "estimator = SVR(kernel='linear')\n",
    "estimator.fit(x_train,y_train)\n",
    "\n",
    "# prediction\n",
    "y_predict = estimator.predict(x_test)\n",
    "\n",
    "# model evaluation\n",
    "svm_mse = mean_squared_error(y_test,y_predict)\n",
    "print('svm mse:',svm_mse)\n",
    "svm_mae = mean_absolute_error(y_test,y_predict)\n",
    "print('svm mae:',svm_mae)\n",
    "svm_score = r2_score(y_test,y_predict)\n",
    "print('R2 score: ',svm_score)"
   ]
  },
  {
   "cell_type": "markdown",
   "id": "1dfda266",
   "metadata": {},
   "source": [
    "#### 2) model with sentiment index"
   ]
  },
  {
   "cell_type": "code",
   "execution_count": 14,
   "id": "f37505a9",
   "metadata": {},
   "outputs": [
    {
     "name": "stdout",
     "output_type": "stream",
     "text": [
      "svm mse: 1110.0417615225613\n",
      "svm mae: 26.854057372623583\n",
      "R2 score:  0.9172526747029073\n"
     ]
    }
   ],
   "source": [
    "# train data\n",
    "estimator = SVR(kernel='linear')\n",
    "estimator.fit(x_train1,y_train1)\n",
    "\n",
    "# prediction\n",
    "y_predict1 = estimator.predict(x_test1)\n",
    "\n",
    "# model evaluation\n",
    "svm_mse = mean_squared_error(y_test1,y_predict1)\n",
    "print('svm mse:',svm_mse)\n",
    "svm_mae = mean_absolute_error(y_test1,y_predict1)\n",
    "print('svm mae:',svm_mae)\n",
    "svm_score = r2_score(y_test1,y_predict1)\n",
    "print('R2 score: ',svm_score)"
   ]
  },
  {
   "cell_type": "markdown",
   "id": "d5423b2a",
   "metadata": {},
   "source": [
    "### 5.5 xgboost regression model\n",
    "#### 1) model without sentiment index"
   ]
  },
  {
   "cell_type": "code",
   "execution_count": 15,
   "id": "02219a8d",
   "metadata": {},
   "outputs": [
    {
     "name": "stdout",
     "output_type": "stream",
     "text": [
      "best parameter:  {'colsample_bytree': 0.8}\n",
      "xg mse: 234.44237416904932\n",
      "xg mae: 11.349598773320517\n",
      "R2 score:  0.9825236490452574\n"
     ]
    }
   ],
   "source": [
    "# train data\n",
    "estimator = XGBRegressor(learning_rate=0.1,max_depth=6,n_estimators=60,min_child_weight=4,gamma=0.1,subsample=0.9,colsample_bytree=0.8)\n",
    "# adjust parameter\n",
    "estimator= GridSearchCV(estimator, param_grid ={'colsample_bytree':[0.5,0.6,0.7,0.8,0.9]},cv=10)\n",
    "estimator.fit(x_train,y_train)\n",
    "print('best parameter: ',estimator.best_params_)\n",
    "\n",
    "# prediction\n",
    "y_predict = estimator.predict(x_test)\n",
    "\n",
    "# model evaluation\n",
    "xg_mse = mean_squared_error(y_test,y_predict)\n",
    "print('xg mse:',xg_mse)\n",
    "xg_mae = mean_absolute_error(y_test,y_predict)\n",
    "print('xg mae:',xg_mae)\n",
    "xg_score = r2_score(y_test,y_predict)\n",
    "print('R2 score: ',xg_score)"
   ]
  },
  {
   "cell_type": "markdown",
   "id": "675bd136",
   "metadata": {},
   "source": [
    "#### 2) model with sentiment index"
   ]
  },
  {
   "cell_type": "code",
   "execution_count": 16,
   "id": "06383283",
   "metadata": {},
   "outputs": [
    {
     "name": "stdout",
     "output_type": "stream",
     "text": [
      "best parameter:  {'colsample_bytree': 0.8}\n",
      "xg mse: 223.7780422522528\n",
      "xg mae: 11.283283122380574\n",
      "R2 score:  0.9833186145796936\n"
     ]
    }
   ],
   "source": [
    "# train data\n",
    "estimator = XGBRegressor(learning_rate=0.1,max_depth=5,n_estimators=70,min_child_weight=4,gamma=0.3,subsample=0.9,colsample_bytree=0.8)\n",
    "# adjust parameter\n",
    "estimator= GridSearchCV(estimator, param_grid ={'colsample_bytree':[0.5,0.6,0.7,0.8,0.9]},cv=10)\n",
    "estimator.fit(x_train1,y_train1)\n",
    "print('best parameter: ',estimator.best_params_)\n",
    "\n",
    "# prediction\n",
    "y_predict1 = estimator.predict(x_test1)\n",
    "\n",
    "# model evaluation\n",
    "xg_mse = mean_squared_error(y_test1,y_predict1)\n",
    "print('xg mse:',xg_mse)\n",
    "xg_mae = mean_absolute_error(y_test1,y_predict1)\n",
    "print('xg mae:',xg_mae)\n",
    "xg_score = r2_score(y_test1,y_predict1)\n",
    "print('R2 score: ',xg_score)"
   ]
  }
 ],
 "metadata": {
  "kernelspec": {
   "display_name": "Python 3",
   "language": "python",
   "name": "python3"
  },
  "language_info": {
   "codemirror_mode": {
    "name": "ipython",
    "version": 3
   },
   "file_extension": ".py",
   "mimetype": "text/x-python",
   "name": "python",
   "nbconvert_exporter": "python",
   "pygments_lexer": "ipython3",
   "version": "3.8.8"
  }
 },
 "nbformat": 4,
 "nbformat_minor": 5
}
