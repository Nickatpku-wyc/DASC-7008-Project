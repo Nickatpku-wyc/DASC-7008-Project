{
 "cells": [
  {
   "cell_type": "markdown",
   "metadata": {},
   "source": [
    "### Data Preparation\n",
    "Reasons for choosing news data as social media data:\n",
    "\n",
    "     1. The property market discussions on social media such as Fb and Tweeter basically only consist of advertisements, and the few remaining groups are either media operations or pessimistic, and it is difficult to make effective analysis.\n",
    "\n",
    "     2. Many of the data on the traditional property market forums are information consultation posts, many of which are vomiting, and there is very little effective information.\n",
    "\n",
    "Acquire the property market news data in the past five years as social media data that needs to be processed, and obtain consumer preferences through text processing and analysis."
   ]
  },
  {
   "cell_type": "code",
   "execution_count": 2,
   "metadata": {},
   "outputs": [],
   "source": [
    "import pandas as pd\n",
    "from os import path\n",
    "from urllib import request\n",
    "import pycantonese as pc\n",
    "import jieba.posseg as pseg\n",
    "import jieba\n",
    "import jieba.analyse\n",
    "from collections import Counter\n",
    "import re\n",
    "from snownlp import SnowNLP"
   ]
  },
  {
   "cell_type": "code",
   "execution_count": 28,
   "metadata": {},
   "outputs": [
    {
     "data": {
      "text/html": [
       "<div>\n",
       "<style scoped>\n",
       "    .dataframe tbody tr th:only-of-type {\n",
       "        vertical-align: middle;\n",
       "    }\n",
       "\n",
       "    .dataframe tbody tr th {\n",
       "        vertical-align: top;\n",
       "    }\n",
       "\n",
       "    .dataframe thead th {\n",
       "        text-align: right;\n",
       "    }\n",
       "</style>\n",
       "<table border=\"1\" class=\"dataframe\">\n",
       "  <thead>\n",
       "    <tr style=\"text-align: right;\">\n",
       "      <th></th>\n",
       "      <th>Unnamed: 0</th>\n",
       "      <th>title</th>\n",
       "      <th>time</th>\n",
       "    </tr>\n",
       "  </thead>\n",
       "  <tbody>\n",
       "    <tr>\n",
       "      <th>0</th>\n",
       "      <td>0</td>\n",
       "      <td>香港置地指旗下写字楼的空置率约5.5%(299)</td>\n",
       "      <td>2021-11-18</td>\n",
       "    </tr>\n",
       "    <tr>\n",
       "      <th>1</th>\n",
       "      <td>1</td>\n",
       "      <td>团结香港基金对公屋总建屋量预测调整感失望(517)</td>\n",
       "      <td>2021-11-16</td>\n",
       "    </tr>\n",
       "    <tr>\n",
       "      <th>2</th>\n",
       "      <td>2</td>\n",
       "      <td>香港\"北部都会区\"效应洪水桥住宅项目热销(423)</td>\n",
       "      <td>2021-11-11</td>\n",
       "    </tr>\n",
       "    <tr>\n",
       "      <th>3</th>\n",
       "      <td>3</td>\n",
       "      <td>香港盛洋投资终止出售美国写字楼物业买卖方存在意见分歧(481)</td>\n",
       "      <td>2021-11-08</td>\n",
       "    </tr>\n",
       "    <tr>\n",
       "      <th>4</th>\n",
       "      <td>4</td>\n",
       "      <td>香港合能控股赴港递交招股书总土地储备440万平方米(401)</td>\n",
       "      <td>2021-10-31</td>\n",
       "    </tr>\n",
       "    <tr>\n",
       "      <th>...</th>\n",
       "      <td>...</td>\n",
       "      <td>...</td>\n",
       "      <td>...</td>\n",
       "    </tr>\n",
       "    <tr>\n",
       "      <th>6970</th>\n",
       "      <td>6970</td>\n",
       "      <td>香港供楼负担比率降至24%</td>\n",
       "      <td>2001-05-17</td>\n",
       "    </tr>\n",
       "    <tr>\n",
       "      <th>6971</th>\n",
       "      <td>6971</td>\n",
       "      <td>林奋强指出香港居屋政策拖累楼市</td>\n",
       "      <td>2001-05-17</td>\n",
       "    </tr>\n",
       "    <tr>\n",
       "      <th>6972</th>\n",
       "      <td>6972</td>\n",
       "      <td>香港地产界人士认为香港供楼支出将低于租金支出实质利率仍高达七厘</td>\n",
       "      <td>2001-05-17</td>\n",
       "    </tr>\n",
       "    <tr>\n",
       "      <th>6973</th>\n",
       "      <td>6973</td>\n",
       "      <td>香港人在深置业需求面面观</td>\n",
       "      <td>2001-05-17</td>\n",
       "    </tr>\n",
       "    <tr>\n",
       "      <th>6974</th>\n",
       "      <td>6974</td>\n",
       "      <td>香港楼价易跌难升</td>\n",
       "      <td>2001-05-16</td>\n",
       "    </tr>\n",
       "  </tbody>\n",
       "</table>\n",
       "<p>6975 rows × 3 columns</p>\n",
       "</div>"
      ],
      "text/plain": [
       "      Unnamed: 0                            title        time\n",
       "0              0         香港置地指旗下写字楼的空置率约5.5%(299)  2021-11-18\n",
       "1              1        团结香港基金对公屋总建屋量预测调整感失望(517)  2021-11-16\n",
       "2              2        香港\"北部都会区\"效应洪水桥住宅项目热销(423)  2021-11-11\n",
       "3              3  香港盛洋投资终止出售美国写字楼物业买卖方存在意见分歧(481)  2021-11-08\n",
       "4              4   香港合能控股赴港递交招股书总土地储备440万平方米(401)  2021-10-31\n",
       "...          ...                              ...         ...\n",
       "6970        6970                    香港供楼负担比率降至24%  2001-05-17\n",
       "6971        6971                  林奋强指出香港居屋政策拖累楼市  2001-05-17\n",
       "6972        6972  香港地产界人士认为香港供楼支出将低于租金支出实质利率仍高达七厘  2001-05-17\n",
       "6973        6973                     香港人在深置业需求面面观  2001-05-17\n",
       "6974        6974                         香港楼价易跌难升  2001-05-16\n",
       "\n",
       "[6975 rows x 3 columns]"
      ]
     },
     "execution_count": 28,
     "metadata": {},
     "output_type": "execute_result"
    }
   ],
   "source": [
    "news = pd.read_csv('economic_data.csv')\n",
    "news"
   ]
  },
  {
   "cell_type": "markdown",
   "metadata": {},
   "source": [
    "#### Data Extraction\n",
    "Although news headlines already contain the key information extraction process of the main text, the meaning of many headlines is not enough to provide effective information, such as:\n",
    "        \n",
    "        ‘金管局公布最新住宅按揭統計數據’，\n",
    "        \n",
    "        ‘今日地產新聞摘要’，\n",
    "        \n",
    "        ‘四大代理評樓市’，\n",
    "\n",
    "Therefore, when we actually analyze it, selecting the text will have a better effect. Here we will show and explain and choose the title."
   ]
  },
  {
   "cell_type": "code",
   "execution_count": 29,
   "metadata": {},
   "outputs": [
    {
     "data": {
      "text/plain": [
       "['香港置地指旗下写字楼的空置率约5.5%(299)',\n",
       " '团结香港基金对公屋总建屋量预测调整感失望(517)',\n",
       " '香港\"北部都会区\"效应洪水桥住宅项目热销(423)',\n",
       " '香港盛洋投资终止出售美国写字楼物业买卖方存在意见分歧(481)',\n",
       " '香港合能控股赴港递交招股书总土地储备440万平方米(401)']"
      ]
     },
     "execution_count": 29,
     "metadata": {},
     "output_type": "execute_result"
    }
   ],
   "source": [
    "news_content = []\n",
    "\n",
    "for i in news.index:\n",
    "    news_content.append(str(news['title'][i]))\n",
    "\n",
    "news_content[:5]"
   ]
  },
  {
   "cell_type": "markdown",
   "metadata": {},
   "source": [
    "### Segmentation"
   ]
  },
  {
   "cell_type": "markdown",
   "metadata": {},
   "source": [
    "### Simplified Chinese\n",
    "For Simplified Chinese, the word segmentation effect of jieba's default corpus is good enough."
   ]
  },
  {
   "cell_type": "markdown",
   "metadata": {},
   "source": [
    "#### JIEBA (default corpus)"
   ]
  },
  {
   "cell_type": "code",
   "execution_count": 31,
   "metadata": {},
   "outputs": [
    {
     "name": "stdout",
     "output_type": "stream",
     "text": [
      "['香港', '置', '地', '指', '旗下', '写字楼', '的', '空置率', '约', '5.5%', '(', '299', ')']\n",
      "['团结', '香港', '基金', '对', '公屋', '总建', '屋量', '预测', '调整', '感', '失望', '(', '517', ')']\n",
      "['香港', '\"', '北部', '都会区', '\"', '效应', '洪水', '桥', '住宅', '项目', '热销', '(', '423', ')']\n",
      "['香港', '盛洋', '投资', '终止', '出售', '美国', '写字楼', '物业', '买卖方', '存在', '意见分歧', '(', '481', ')']\n",
      "['香港', '合能', '控股', '赴', '港', '递交', '招股书', '总', '土地储备', '440', '万平方米', '(', '401', ')']\n",
      "['香港', '华人', '置业', '以', '7771.02', '万美元', '出售', '本', '金额', '2.55', '亿美元', '佳兆业', '...']\n",
      "['香港', '住宅', '楼价', '自', '2021', '年', '7', '月', '创新', '高后', '连续', '两月', '回落', '(', '380', ')']\n",
      "['香港', '修订', '强', '积金', '条例', '为', '\"', '积金', '易', '\"', '平台', '提供', '法律', '基础', '(', '541', ')']\n",
      "['香港', '丽新', '发展', '2021', '全年', '录得', '营收', '59.87', '亿港元', '已', '确认', '销售', '25', '亿', '...']\n",
      "['香港特区', '立法会', '通过', '房租', '务', '管制', '条例', '草案', '(', '579', ')']\n"
     ]
    }
   ],
   "source": [
    "words = []\n",
    "\n",
    "for i in range(len(news_content)):\n",
    "     words.append(jieba.lcut(news_content[i],cut_all=False))\n",
    "\n",
    "for i in range(0,10):\n",
    "     print(words[i])"
   ]
  },
  {
   "cell_type": "markdown",
   "metadata": {},
   "source": [
    "### Cantonese\n",
    "\n",
    "Cantonese (Hong Kong) currently has fewer NLP tools. The only mainstream ones are jieba's traditional Chinese processing tools and PyCantonese.\n",
    "\n",
    "We use two tools to process our text separately to compare effects."
   ]
  },
  {
   "cell_type": "code",
   "execution_count": 7,
   "metadata": {},
   "outputs": [],
   "source": [
    "news_cantonese = pd.read_csv('10year28Hse.csv')\n",
    "\n",
    "cantonese_content = []\n",
    "\n",
    "for i in news_cantonese.index:\n",
    "    cantonese_content.append(str(news_cantonese['title'][i]))"
   ]
  },
  {
   "cell_type": "markdown",
   "metadata": {},
   "source": [
    "#### JIEBA (default corpus)"
   ]
  },
  {
   "cell_type": "code",
   "execution_count": 8,
   "metadata": {},
   "outputs": [
    {
     "data": {
      "text/plain": [
       "[['港', '明天', '會', '更好', ' ', '如何', '減', '失落', '社群'],\n",
       " ['港鐵東', '涌地', '流標', '，', '是', '因為', '補地', '價貴', '？'],\n",
       " ['市民', '住屋', '優先', '次序', ' ', '低', '於', '螢火蟲', '？'],\n",
       " ['「', '售後租', '回', '」', '的', '注意', '事項'],\n",
       " ['海外', '物業', '買', '賣', ' ', '核心', '問題', '不能', '忽略'],\n",
       " ['私樓', '賣', '地', '條款', '考慮', '設', '最細', '單位', '面積'],\n",
       " ['代理', '爭盤', '打架', ' ', '誰', '要', '負責任'],\n",
       " ['近', '四成', '受訪', '青年', '因置業', '推遲', '結婚'],\n",
       " ['面對', '新', '時勢', ' ', '地產', '代理', '必須', '增值'],\n",
       " ['新一期', '居屋', '料', '年底', '推']]"
      ]
     },
     "execution_count": 8,
     "metadata": {},
     "output_type": "execute_result"
    }
   ],
   "source": [
    "words_cantonese = []\n",
    "\n",
    "for i in range(len(cantonese_content)):\n",
    "     words_cantonese.append(jieba.lcut(cantonese_content[i],cut_all=False))\n",
    "\n",
    "words_cantonese[:10]"
   ]
  },
  {
   "cell_type": "markdown",
   "metadata": {},
   "source": [
    "It can be seen that after word segmentation is performed through the corpus preset by Jieba, there are phenomena of excessive word segmentation and wrong segmentation. Here, because the word frequency and part of speech in the jieba sub-word corpus are based on the Mandarin style, it is not suitable for direct word segmentation in traditional Chinese."
   ]
  },
  {
   "cell_type": "markdown",
   "metadata": {},
   "source": [
    "### JIEBA (Big Dictionary)\n",
    "\n",
    "Fortunately, Jieba has launched a bigger dictionary that has better support for traditional Chinese for traditional Chinese word segmentation, so next we try to use this dictionary for word segmentation processing."
   ]
  },
  {
   "cell_type": "code",
   "execution_count": 9,
   "metadata": {},
   "outputs": [
    {
     "name": "stderr",
     "output_type": "stream",
     "text": [
      "Building prefix dict from c:\\Users\\Nicka\\Desktop\\Programming for data science\\Group Project\\Text_ana\\dict.big.txt ...\n",
      "Loading model from cache C:\\Users\\Nicka\\AppData\\Local\\Temp\\jieba.u6f7d4f63166dd537d3cef7e7bcb20cc2.cache\n",
      "Loading model cost 0.826 seconds.\n",
      "Prefix dict has been built successfully.\n"
     ]
    },
    {
     "data": {
      "text/plain": [
       "[['港', '明天', '會', '更好', ' ', '如何', '減', '失落', '社群'],\n",
       " ['港鐵東', '涌地', '流標', '，', '是', '因為', '補', '地價', '貴', '？'],\n",
       " ['市民', '住屋', '優先', '次序', ' ', '低於', '螢火蟲', '？'],\n",
       " ['「', '售後', '租回', '」', '的', '注意事項'],\n",
       " ['海外', '物業', '買賣', ' ', '核心', '問題', '不能', '忽略'],\n",
       " ['私樓', '賣地', '條款', '考慮', '設', '最細', '單位', '面積'],\n",
       " ['代理', '爭盤', '打架', ' ', '誰', '要', '負責', '任'],\n",
       " ['近', '四成', '受訪', '青年', '因', '置業', '推遲', '結婚'],\n",
       " ['面對', '新', '時勢', ' ', '地產', '代理', '必須', '增值'],\n",
       " ['新一期', '居屋', '料', '年底', '推']]"
      ]
     },
     "execution_count": 9,
     "metadata": {},
     "output_type": "execute_result"
    }
   ],
   "source": [
    "# Get the Big dict for Cantonese of jieba\n",
    "dir = path.abspath(path.dirname('C:/Users/Nicka/Desktop/Programming for data science/Group Project/Text_ana/'))\n",
    "url = 'https://raw.githubusercontent.com/fxsjy/jieba/master/extra_dict/dict.txt.big'\n",
    "path_ = path.join(dir, 'dict.big.txt')\n",
    "\n",
    "if not path.exists(path_):\n",
    "    request.urlretrieve(url, path)\n",
    "\n",
    "# Set the corpus as the Big dict\n",
    "jieba.initialize()   \n",
    "jieba.set_dictionary('dict.big.txt')\n",
    "\n",
    "words_cantonese = []\n",
    "\n",
    "for i in range(len(cantonese_content)):\n",
    "     words_cantonese.append(jieba.lcut(cantonese_content[i],cut_all=False))\n",
    "\n",
    "words_cantonese[:10]"
   ]
  },
  {
   "cell_type": "markdown",
   "metadata": {},
   "source": [
    "It can be seen that the word segmentation effect of using jieba Big Dictionary is much better. However, Jieba's traditional vocabulary is still a habit of using Mandarin Chinese.\n",
    "\n",
    "It does not consider the context in which Cantonese is used. For example, words such as \"Tung Chung Di\" will be erroneously split."
   ]
  },
  {
   "cell_type": "markdown",
   "metadata": {},
   "source": [
    "### PyCantonese"
   ]
  },
  {
   "cell_type": "code",
   "execution_count": 10,
   "metadata": {},
   "outputs": [
    {
     "data": {
      "text/plain": [
       "[['港', '明天', '會', '更', '好', '如何', '減', '失落', '社', '群'],\n",
       " ['港鐵', '東涌', '地', '流標', '，', '是', '因為', '補', '地', '價', '貴', '？'],\n",
       " ['市民', '住屋', '優先', '次序', '低於', '螢火蟲', '？'],\n",
       " ['「', '售', '後', '租', '回', '」', '的', '注意事項'],\n",
       " ['海外', '物業', '買賣', '核心', '問題', '不能', '忽略'],\n",
       " ['私樓', '賣', '地', '條款', '考慮', '設', '最細', '單位', '面積'],\n",
       " ['代理', '爭', '盤', '打架', '誰', '要', '負責任'],\n",
       " ['近', '四成', '受訪', '青年', '因', '置業', '推遲', '結婚'],\n",
       " ['面對', '新', '時勢', '地產', '代理', '必須', '增值'],\n",
       " ['新', '一', '期', '居屋', '料', '年底', '推']]"
      ]
     },
     "execution_count": 10,
     "metadata": {},
     "output_type": "execute_result"
    }
   ],
   "source": [
    "# using pycantonese to do the segment\n",
    "words_cantonese = []\n",
    "\n",
    "for i in range(len(cantonese_content)):\n",
    "     words_cantonese.append(pc.segment(cantonese_content[i]))\n",
    "\n",
    "words_cantonese[:10]"
   ]
  },
  {
   "cell_type": "markdown",
   "metadata": {},
   "source": [
    "Obviously, the word segmentation effect of some nouns in PyCantonese is better than that of Jieba, but many words are over-splitting and lose their meaning.\n",
    "\n",
    "In fact, the corpus of the PyCantonese project is mainly dialogue data, and the genre is not formal. Our news projects have a lot of formal written text."
   ]
  },
  {
   "cell_type": "markdown",
   "metadata": {},
   "source": [
    "### Merge dictionary\n",
    "\n",
    "So next, we try to merge the two effective dictionaries by adjusting the word frequency and use them as the prefix dictionary for our text segmentation."
   ]
  },
  {
   "cell_type": "code",
   "execution_count": 11,
   "metadata": {},
   "outputs": [],
   "source": [
    "# Download the HKcancor corpus\n",
    "corpus = pc.hkcancor()\n",
    "c = Counter()\n",
    "tokens = corpus.tokens(by_utterances=False)\n",
    "\n",
    "for token in tokens:\n",
    "    word = token.word\n",
    "    pos = token.pos\n",
    "    if pos.isalpha():\n",
    "        c[word, pos.lower()] += 1\n",
    "\n",
    "# Save the corpus as the dict_PyCantonese file\n",
    "with open(path.join(dir, 'dict_PyCantonese.txt'), 'w', encoding='utf8') as f:\n",
    "    for (word, pos), freq in c.most_common():\n",
    "        print(word, freq, pos, file=f)"
   ]
  },
  {
   "cell_type": "markdown",
   "metadata": {},
   "source": [
    "For the weight adjustment of the combined thesaurus, the method we adopted is to adjust the word frequency of PyCantonese so that the word frequency of the word \"嘅\" in PyCantonese is consistent with the word frequency of the word \"的\" in the stammering word database. This is only an approximate method, not a combination of the two in equal proportions."
   ]
  },
  {
   "cell_type": "code",
   "execution_count": 12,
   "metadata": {},
   "outputs": [],
   "source": [
    "# merge the two corpus\n",
    "\n",
    "# Get the frequency of '的'\n",
    "counter_jieba = Counter()\n",
    "\n",
    "with open(path.join(dir, 'dict.big.txt'), encoding='utf8') as f:\n",
    "    for line in f:\n",
    "        word, freq, tag = line.rstrip('\\n').split(' ')\n",
    "        counter_jieba[word, tag] += int(freq)\n",
    "\n",
    "de_freq = counter_jieba['的', 'uj']\n",
    "\n",
    "# Get the frequency of '嘅'\n",
    "counter_Pycantonese = Counter()\n",
    "\n",
    "with open(path.join(dir, 'dict_PyCantonese.txt'), encoding='utf8') as f:\n",
    "    for line in f:\n",
    "        word, freq, tag = line.rstrip('\\n').split(' ')\n",
    "        counter_Pycantonese[word, tag] += int(freq)\n",
    "\n",
    "ge_freq = counter_Pycantonese['嘅', 'u']\n",
    "\n",
    "# merge\n",
    "c = Counter()\n",
    "w = de_freq / ge_freq\n",
    "\n",
    "for k, v in counter_jieba.items():\n",
    "    c[k] += v\n",
    "\n",
    "for k, v in counter_Pycantonese.items():\n",
    "    c[k] += round(v * w)\n",
    "\n",
    "with open(path.join(dir, 'merged_dict.txt'), 'w', encoding='utf8') as f:\n",
    "    for (word, pos), freq in c.most_common():\n",
    "        print(word, freq, pos, file=f)"
   ]
  },
  {
   "cell_type": "markdown",
   "metadata": {},
   "source": [
    "Next, we use the adjusted corpus for word segmentation to see the final effect"
   ]
  },
  {
   "cell_type": "code",
   "execution_count": 13,
   "metadata": {},
   "outputs": [
    {
     "data": {
      "text/plain": [
       "[['港', '明天', '會', '更', '好', '如何', '減', '失落', '社', '群'],\n",
       " ['港鐵', '東涌', '地', '流標', '，', '是', '因為', '補', '地', '價', '貴', '？'],\n",
       " ['市民', '住屋', '優先', '次序', '低於', '螢火蟲', '？'],\n",
       " ['「', '售', '後', '租', '回', '」', '的', '注意事項'],\n",
       " ['海外', '物業', '買賣', '核心', '問題', '不能', '忽略'],\n",
       " ['私樓', '賣', '地', '條款', '考慮', '設', '最細', '單位', '面積'],\n",
       " ['代理', '爭', '盤', '打架', '誰', '要', '負責任'],\n",
       " ['近', '四成', '受訪', '青年', '因', '置業', '推遲', '結婚'],\n",
       " ['面對', '新', '時勢', '地產', '代理', '必須', '增值'],\n",
       " ['新', '一', '期', '居屋', '料', '年底', '推']]"
      ]
     },
     "execution_count": 13,
     "metadata": {},
     "output_type": "execute_result"
    }
   ],
   "source": [
    "jieba.initialize()\n",
    "jieba.set_dictionary('merged_dict.txt')\n",
    "\n",
    "words_cantonese = []\n",
    "\n",
    "for i in range(len(cantonese_content)):\n",
    "     words_cantonese.append(pc.segment(cantonese_content[i]))\n",
    "\n",
    "words_cantonese[:10]"
   ]
  },
  {
   "cell_type": "markdown",
   "metadata": {},
   "source": [
    "In theory, although our merging method is relatively rough, the performance of the new corpus in processing Cantonese words and proper nouns should be improved.\n",
    "\n",
    "Due to the limited display samples, the results of some word segmentation displayed have not changed much, but it can still be seen that some words have been split, and the granularity has been further increased, which provides a basis for subsequent word frequency statistics."
   ]
  },
  {
   "cell_type": "markdown",
   "metadata": {},
   "source": [
    "### Text preprocessing\n",
    "——After word segmentation, remove useless tags and stop words"
   ]
  },
  {
   "cell_type": "code",
   "execution_count": 36,
   "metadata": {},
   "outputs": [
    {
     "data": {
      "text/plain": [
       "['香港 置 地 指 旗下 写字楼 的 空置率 约',\n",
       " '团结 香港 基金 对 公屋 总建 屋量 预测 调整 感 失望',\n",
       " '香港 北部 都会区 效应 洪水 桥 住宅 项目 热销',\n",
       " '香港 盛洋 投资 终止 出售 美国 写字楼 物业 买卖方 存在 意见分歧',\n",
       " '香港 合能 控股 赴 港 递交 招股书 总 土地储备 万平方米']"
      ]
     },
     "execution_count": 36,
     "metadata": {},
     "output_type": "execute_result"
    }
   ],
   "source": [
    "def text_process(text):\n",
    "    # Remove English numbers and special symbols\n",
    "    r1 =  \"\\\\【.*?】+|\\\\《.*?》+|\\\\#.*?#+|[.!/_,$&%^*()<>+\"\"'?@|:~{}#]+|[——！\\\\\\，。=？、：“”‘’￥……（）《》【】\\\"]\"\n",
    "    r2 = '[a-zA-Z0-9]' \n",
    "    # Removing key symbols and English numbers before word segmentation will affect word segmentation\n",
    "    \n",
    "    for i in range(len(text)):\n",
    "        text[i] = re.sub(r1,'',text[i])\n",
    "        text[i] = re.sub(r2,'',text[i])\n",
    "\n",
    "    # Remove stop words\n",
    "    stopwords = pc.stop_words()\n",
    "\n",
    "    # Remove useless tags\n",
    "    useless_label = {'\\r\\n','\\r','\\u3000',' ','','[',']'}\n",
    "    text = list(filter(lambda x:x not in stopwords, text))\n",
    "    text = list(filter(lambda x:x not in useless_label, text))\n",
    "    return text\n",
    "\n",
    "for i in range(len(words)):\n",
    "    words[i] = ' '.join(text_process(words[i]))\n",
    "\n",
    "words[:5]"
   ]
  },
  {
   "cell_type": "markdown",
   "metadata": {},
   "source": [
    "It can be seen that even though we have removed the stop words, there is still too much useless information after the word segmentation.\n",
    "\n",
    "——For sentiment analysis, we mainly focus on words such as adjectives and verbs that can express market trends and consumer preferences.\n",
    "\n",
    "So we re-segment the text and perform part-of-speech tagging to filter out the word types we need."
   ]
  },
  {
   "cell_type": "markdown",
   "metadata": {},
   "source": [
    "#### Part-of-speech tagging"
   ]
  },
  {
   "cell_type": "code",
   "execution_count": 37,
   "metadata": {},
   "outputs": [
    {
     "name": "stderr",
     "output_type": "stream",
     "text": [
      "Paddle enabled successfully......\n"
     ]
    }
   ],
   "source": [
    "jieba.enable_paddle() # Start paddle mode\n",
    "\n",
    "words_new = []\n",
    "\n",
    "for i in range(len(news_content)):\n",
    "    words_new.append(pseg.cut(news_content[i],use_paddle=True))"
   ]
  },
  {
   "cell_type": "code",
   "execution_count": 38,
   "metadata": {},
   "outputs": [
    {
     "name": "stdout",
     "output_type": "stream",
     "text": [
      "香港 LOC\n",
      "置地指 v\n",
      "旗下 n\n",
      "写字楼 n\n",
      "的 u\n",
      "空置率 n\n",
      "约 d\n",
      "5.5% m\n",
      "( w\n",
      "299 m\n",
      ") w\n"
     ]
    }
   ],
   "source": [
    "for word,flag in words_new[0]:\n",
    "    print('%s %s' % (word, flag))"
   ]
  },
  {
   "cell_type": "markdown",
   "metadata": {},
   "source": [
    "#### Emotional Word Extraction"
   ]
  },
  {
   "cell_type": "code",
   "execution_count": 39,
   "metadata": {},
   "outputs": [
    {
     "data": {
      "text/plain": [
       "['', '团结 总 建 预测 失望', '都会 热销', '终止 出售 存在', '合 能 控股 赴 递交 总 储备']"
      ]
     },
     "execution_count": 39,
     "metadata": {},
     "output_type": "execute_result"
    }
   ],
   "source": [
    "words_key = []\n",
    "key_set = {'v','vd','vn','a','ad','an','d'}\n",
    "\n",
    "for i in range(len(words_new)):\n",
    "    words_key.append([])\n",
    "    for word,flag in words_new[i]:\n",
    "        if flag in key_set:\n",
    "            words_key[i].append(word)\n",
    "\n",
    "# Text preprocessing\n",
    "for i in range(len(words_key)):\n",
    "    words_key[i] = ' '.join(text_process(words_key[i]))\n",
    "\n",
    "words_key[:5]"
   ]
  },
  {
   "cell_type": "markdown",
   "metadata": {},
   "source": [
    "#### Standardization\n",
    "\n",
    "——Stemming and lemmatization\n",
    "\n",
    "Not currently supported, no formed corpus"
   ]
  },
  {
   "cell_type": "markdown",
   "metadata": {},
   "source": [
    "### Text Analysis"
   ]
  },
  {
   "cell_type": "markdown",
   "metadata": {},
   "source": [
    "#### Statistics\n",
    "\n",
    "Use jieba's own TF-IDF keyword extraction, and also remove the stop words (IDF)"
   ]
  },
  {
   "cell_type": "code",
   "execution_count": 40,
   "metadata": {},
   "outputs": [
    {
     "data": {
      "text/html": [
       "<div>\n",
       "<style scoped>\n",
       "    .dataframe tbody tr th:only-of-type {\n",
       "        vertical-align: middle;\n",
       "    }\n",
       "\n",
       "    .dataframe tbody tr th {\n",
       "        vertical-align: top;\n",
       "    }\n",
       "\n",
       "    .dataframe thead th {\n",
       "        text-align: right;\n",
       "    }\n",
       "</style>\n",
       "<table border=\"1\" class=\"dataframe\">\n",
       "  <thead>\n",
       "    <tr style=\"text-align: right;\">\n",
       "      <th></th>\n",
       "      <th>word</th>\n",
       "      <th>tfidf</th>\n",
       "    </tr>\n",
       "  </thead>\n",
       "  <tbody>\n",
       "    <tr>\n",
       "      <th>1221</th>\n",
       "      <td>投资</td>\n",
       "      <td>142.840814</td>\n",
       "    </tr>\n",
       "    <tr>\n",
       "      <th>12</th>\n",
       "      <td>上市</td>\n",
       "      <td>132.320524</td>\n",
       "    </tr>\n",
       "    <tr>\n",
       "      <th>1138</th>\n",
       "      <td>成交</td>\n",
       "      <td>119.702583</td>\n",
       "    </tr>\n",
       "    <tr>\n",
       "      <th>687</th>\n",
       "      <td>同比</td>\n",
       "      <td>117.430926</td>\n",
       "    </tr>\n",
       "    <tr>\n",
       "      <th>2514</th>\n",
       "      <td>销售</td>\n",
       "      <td>113.938539</td>\n",
       "    </tr>\n",
       "    <tr>\n",
       "      <th>...</th>\n",
       "      <td>...</td>\n",
       "      <td>...</td>\n",
       "    </tr>\n",
       "    <tr>\n",
       "      <th>925</th>\n",
       "      <td>将近</td>\n",
       "      <td>0.445738</td>\n",
       "    </tr>\n",
       "    <tr>\n",
       "      <th>516</th>\n",
       "      <td>务实</td>\n",
       "      <td>0.444589</td>\n",
       "    </tr>\n",
       "    <tr>\n",
       "      <th>2534</th>\n",
       "      <td>间接</td>\n",
       "      <td>0.439179</td>\n",
       "    </tr>\n",
       "    <tr>\n",
       "      <th>2337</th>\n",
       "      <td>较多</td>\n",
       "      <td>0.432752</td>\n",
       "    </tr>\n",
       "    <tr>\n",
       "      <th>2390</th>\n",
       "      <td>连带</td>\n",
       "      <td>0.426206</td>\n",
       "    </tr>\n",
       "  </tbody>\n",
       "</table>\n",
       "<p>2681 rows × 2 columns</p>\n",
       "</div>"
      ],
      "text/plain": [
       "     word       tfidf\n",
       "1221   投资  142.840814\n",
       "12     上市  132.320524\n",
       "1138   成交  119.702583\n",
       "687    同比  117.430926\n",
       "2514   销售  113.938539\n",
       "...   ...         ...\n",
       "925    将近    0.445738\n",
       "516    务实    0.444589\n",
       "2534   间接    0.439179\n",
       "2337   较多    0.432752\n",
       "2390   连带    0.426206\n",
       "\n",
       "[2681 rows x 2 columns]"
      ]
     },
     "execution_count": 40,
     "metadata": {},
     "output_type": "execute_result"
    }
   ],
   "source": [
    "from sklearn.feature_extraction.text import TfidfTransformer\n",
    "from sklearn.feature_extraction.text import TfidfVectorizer\n",
    "from sklearn.feature_extraction.text import CountVectorizer\n",
    "\n",
    "# The following two ways to count the TF-IDF value can be\n",
    "\n",
    "# This class will directly convert the words in the text into a TF-IDF matrix, \n",
    "# The matrix element a[i][j] represents the TF-IDF value of the word j in the text of type i\n",
    "vectorizer = TfidfVectorizer()\n",
    "\n",
    "X = vectorizer.fit_transform(words_key)\n",
    "X.toarray().sum(axis=0)\n",
    "data = {'word': vectorizer.get_feature_names(),\n",
    "        'tfidf': X.toarray().sum(axis=0).tolist()}\n",
    "\n",
    "df = pd.DataFrame(data)\n",
    "\n",
    "df_new = df.sort_values(by=\"tfidf\" , ascending=False) \n",
    "df_new\n",
    "\n",
    "\n",
    "# This class will convert the words in the text into a word frequency matrix. \n",
    "# The matrix element a[i][j] represents the word frequency of word j in the text of type i\n",
    "vectorizer = CountVectorizer()\n",
    "# This category will count the tf-idf weight of each word     \n",
    "transformer = TfidfTransformer()\n",
    "# Convert text to word frequency matrix\n",
    "X = vectorizer.fit_transform(words_key)\n",
    "# Calculate tf-idf\n",
    "tfidf = transformer.fit_transform(X)  \n",
    "tfidf.toarray().sum(axis=0)\n",
    "data = {'word': vectorizer.get_feature_names(),\n",
    "        'tfidf': X.toarray().sum(axis=0).tolist()}\n",
    "\n",
    "df = pd.DataFrame(data)\n",
    "\n",
    "df_new = df.sort_values(by=\"tfidf\" , ascending=False) \n",
    "df_new"
   ]
  },
  {
   "cell_type": "markdown",
   "metadata": {},
   "source": [
    "### Sentiment Analysis (Title)\n",
    "\n",
    "——Take a month as a time slice to count the emotional average index within a single month\n",
    "\n",
    "——Use SnowNLP to quickly analyze news sentiment based on news headline content\n",
    "\n",
    "——The title is the simplification of the content and the extraction of key information. We can get a basic reference value by performing sentiment analysis on the title (baseline)"
   ]
  },
  {
   "cell_type": "code",
   "execution_count": 3,
   "metadata": {},
   "outputs": [],
   "source": [
    "news = pd.read_csv('economic_data.csv')\n",
    "\n",
    "# Add sentiment indicator\n",
    "senti_score = []\n",
    "time_slice = []\n",
    "\n",
    "for i in range(len(news.index)):\n",
    "    time_slice.append(news['time'][i][0:7])\n",
    "    senti_score.append(SnowNLP(news['title'][i]).sentiments)"
   ]
  },
  {
   "cell_type": "code",
   "execution_count": 4,
   "metadata": {},
   "outputs": [
    {
     "data": {
      "text/html": [
       "<div>\n",
       "<style scoped>\n",
       "    .dataframe tbody tr th:only-of-type {\n",
       "        vertical-align: middle;\n",
       "    }\n",
       "\n",
       "    .dataframe tbody tr th {\n",
       "        vertical-align: top;\n",
       "    }\n",
       "\n",
       "    .dataframe thead th {\n",
       "        text-align: right;\n",
       "    }\n",
       "</style>\n",
       "<table border=\"1\" class=\"dataframe\">\n",
       "  <thead>\n",
       "    <tr style=\"text-align: right;\">\n",
       "      <th></th>\n",
       "      <th>senti_score</th>\n",
       "    </tr>\n",
       "    <tr>\n",
       "      <th>time_slice</th>\n",
       "      <th></th>\n",
       "    </tr>\n",
       "  </thead>\n",
       "  <tbody>\n",
       "    <tr>\n",
       "      <th>2001-05</th>\n",
       "      <td>0.718250</td>\n",
       "    </tr>\n",
       "    <tr>\n",
       "      <th>2001-06</th>\n",
       "      <td>0.716307</td>\n",
       "    </tr>\n",
       "    <tr>\n",
       "      <th>2001-07</th>\n",
       "      <td>0.739726</td>\n",
       "    </tr>\n",
       "    <tr>\n",
       "      <th>2001-08</th>\n",
       "      <td>0.730730</td>\n",
       "    </tr>\n",
       "    <tr>\n",
       "      <th>2001-09</th>\n",
       "      <td>0.808427</td>\n",
       "    </tr>\n",
       "    <tr>\n",
       "      <th>...</th>\n",
       "      <td>...</td>\n",
       "    </tr>\n",
       "    <tr>\n",
       "      <th>2021-07</th>\n",
       "      <td>0.654672</td>\n",
       "    </tr>\n",
       "    <tr>\n",
       "      <th>2021-08</th>\n",
       "      <td>0.805227</td>\n",
       "    </tr>\n",
       "    <tr>\n",
       "      <th>2021-09</th>\n",
       "      <td>0.775407</td>\n",
       "    </tr>\n",
       "    <tr>\n",
       "      <th>2021-10</th>\n",
       "      <td>0.836393</td>\n",
       "    </tr>\n",
       "    <tr>\n",
       "      <th>2021-11</th>\n",
       "      <td>0.651575</td>\n",
       "    </tr>\n",
       "  </tbody>\n",
       "</table>\n",
       "<p>247 rows × 1 columns</p>\n",
       "</div>"
      ],
      "text/plain": [
       "            senti_score\n",
       "time_slice             \n",
       "2001-05        0.718250\n",
       "2001-06        0.716307\n",
       "2001-07        0.739726\n",
       "2001-08        0.730730\n",
       "2001-09        0.808427\n",
       "...                 ...\n",
       "2021-07        0.654672\n",
       "2021-08        0.805227\n",
       "2021-09        0.775407\n",
       "2021-10        0.836393\n",
       "2021-11        0.651575\n",
       "\n",
       "[247 rows x 1 columns]"
      ]
     },
     "execution_count": 4,
     "metadata": {},
     "output_type": "execute_result"
    }
   ],
   "source": [
    "# Calculate average sentiment score\n",
    "senti_df = pd.DataFrame({'time_slice':time_slice,'senti_score':senti_score})  \n",
    "    \n",
    "mean_senti = pd.DataFrame(senti_df.groupby('time_slice').aggregate('mean'))\n",
    "mean_senti.sort_values('time_slice',inplace=True)\n",
    "mean_senti.to_csv('month_sentiment_SnowNLP.csv')\n",
    "mean_senti"
   ]
  },
  {
   "cell_type": "code",
   "execution_count": 5,
   "metadata": {},
   "outputs": [
    {
     "data": {
      "image/png": "[encoded data removed]",
      "text/plain": [
       "<Figure size 1728x576 with 1 Axes>"
      ]
     },
     "metadata": {
      "needs_background": "light"
     },
     "output_type": "display_data"
    }
   ],
   "source": [
    "# Sentiment indicator visualization example\n",
    "import matplotlib.pyplot as plt\n",
    "plt.figure(figsize=(24, 8))\n",
    "plt.plot(mean_senti['senti_score'], color='b', label = 'ave_senti_score')\n",
    "plt.xlabel('time')\n",
    "plt.ylabel('sentiment')\n",
    "plt.xticks(())\n",
    "plt.title(\"Sentiment curve(SnowNLP)\")\n",
    "plt.legend(loc = 'best')\n",
    "plt.show()"
   ]
  },
  {
   "cell_type": "markdown",
   "metadata": {},
   "source": [
    "### Sentiment analysis(correction)\n",
    "\n",
    "——Through the data set that comes with SnowNLP, the official recommendation is that the data calculation accuracy of e-commerce reviews is relatively high.\n",
    "\n",
    "——So we try to calculate the sentiment value based on the labeled sentiment dictionary, and use your own data to train the model.\n",
    "\n",
    "—— There are a Chinese sentiment dictionary that are widely used at present: BosonNLP sentiment dictionary. We use this industry standard emotional dictionaries to define the emotional value of our data."
   ]
  },
  {
   "cell_type": "code",
   "execution_count": 6,
   "metadata": {},
   "outputs": [
    {
     "name": "stderr",
     "output_type": "stream",
     "text": [
      "Building prefix dict from the default dictionary ...\n",
      "Loading model from cache C:\\Users\\Nicka\\AppData\\Local\\Temp\\jieba.cache\n",
      "Loading model cost 0.460 seconds.\n",
      "Prefix dict has been built successfully.\n"
     ]
    },
    {
     "data": {
      "image/png": "[encoded data removed]",
      "text/plain": [
       "<Figure size 1728x576 with 1 Axes>"
      ]
     },
     "metadata": {
      "needs_background": "light"
     },
     "output_type": "display_data"
    }
   ],
   "source": [
    "# Load dictionary\n",
    "bosonNLP_sentiment = pd.read_table(\"BosonNLP_sentiment_score.txt\",sep= \" \",names=['key','score'])\n",
    "key = bosonNLP_sentiment['key'].values.tolist()\n",
    "score = bosonNLP_sentiment['score'].values.tolist()\n",
    "\n",
    "# Extract the text\n",
    "news_content = []\n",
    "for i in news.index:\n",
    "    news_content.append(str(news['title'][i]))\n",
    "\n",
    "# Calculate sentiment score\n",
    "def getscore(text):\n",
    "    segs = jieba.lcut(text,cut_all=False)  # here we use the simplify CN as example\n",
    "    score_list  = [score[key.index(x)] for x in segs if(x in key)]\n",
    "    return  sum(score_list)\n",
    "\n",
    "# Do the same work as above(SnowNLP)\n",
    "senti_score = []\n",
    "time_slice = []\n",
    "for i in range(len(news.index)):\n",
    "    time_slice.append(news['time'][i][0:7])\n",
    "    # time_slice.append(str(news['year'][i]) + '-' + str(news['month'][i]))\n",
    "    senti_score.append(round(getscore(news['title'][i]),2))\n",
    "\n",
    "# Calculate average sentiment score\n",
    "senti_df = pd.DataFrame({'time_slice':time_slice,'senti_score':senti_score})      \n",
    "mean_senti = pd.DataFrame(senti_df.groupby('time_slice').aggregate('mean'))\n",
    "mean_senti.sort_values('time_slice',inplace=True)\n",
    "mean_senti.to_csv('month_sentiment_Dict.csv')\n",
    "\n",
    "# Sentiment indicator visualization\n",
    "plt.figure(figsize=(24, 8))\n",
    "plt.plot(mean_senti['senti_score'], color='b', label = 'ave_senti_score')\n",
    "plt.xlabel('time')\n",
    "plt.ylabel('sentiment')\n",
    "plt.xticks(())\n",
    "plt.title(\"Sentiment curve(BosonNLP dict_based)\")\n",
    "plt.legend(loc = 'best')\n",
    "plt.show()"
   ]
  }
 ],
 "metadata": {
  "interpreter": {
   "hash": "ed225720166559e7176d3793db16a2fd8d295f725007103b21ac3099d2a89ee8"
  },
  "kernelspec": {
   "display_name": "Python 3.8.8 64-bit ('base': conda)",
   "language": "python",
   "name": "python3"
  },
  "language_info": {
   "codemirror_mode": {
    "name": "ipython",
    "version": 3
   },
   "file_extension": ".py",
   "mimetype": "text/x-python",
   "name": "python",
   "nbconvert_exporter": "python",
   "pygments_lexer": "ipython3",
   "version": "3.8.8"
  },
  "orig_nbformat": 4
 },
 "nbformat": 4,
 "nbformat_minor": 2
}
